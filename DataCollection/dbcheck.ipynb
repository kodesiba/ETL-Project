{
 "cells": [
  {
   "cell_type": "markdown",
   "metadata": {},
   "source": [
    "# check database"
   ]
  },
  {
   "cell_type": "code",
   "execution_count": 1,
   "metadata": {},
   "outputs": [],
   "source": [
    "import sqlalchemy\n",
    "from sqlalchemy.ext.automap import automap_base\n",
    "from sqlalchemy.orm import Session\n",
    "from sqlalchemy import create_engine, func, inspect"
   ]
  },
  {
   "cell_type": "code",
   "execution_count": 2,
   "metadata": {},
   "outputs": [],
   "source": [
    "engine = create_engine('sqlite:///Data/brewdat.sqlite', echo=False)"
   ]
  },
  {
   "cell_type": "code",
   "execution_count": 3,
   "metadata": {},
   "outputs": [
    {
     "name": "stdout",
     "output_type": "stream",
     "text": [
      "(0, 5016, 'Bark Brewing Company', 'brewpub', '3021 Spring Garden St', 'Greensboro', 'North Carolina', '27403-1968', 'United States', '-79.8436043406271', '36.0620103554184', '3368561406', 'http://barkbrewingcompany.com', '2018-08-24T15:41:02.410Z', '27403')\n"
     ]
    }
   ],
   "source": [
    "# check breweries table\n",
    "print(engine.execute(\"SELECT * FROM breweries\").fetchall()[0])"
   ]
  },
  {
   "cell_type": "code",
   "execution_count": 4,
   "metadata": {},
   "outputs": [
    {
     "name": "stdout",
     "output_type": "stream",
     "text": [
      "(0, 5016, '36.0620103554184', '-79.8436043406271', 'The Dailey Renewal Retreat Bed and Breakfast', '808 Northridge Street, Greensboro')\n"
     ]
    }
   ],
   "source": [
    "# check hotels table\n",
    "print(engine.execute(\"SELECT * FROM hotels\").fetchall()[0])"
   ]
  },
  {
   "cell_type": "code",
   "execution_count": 5,
   "metadata": {},
   "outputs": [
    {
     "name": "stdout",
     "output_type": "stream",
     "text": [
      "(0, 5016, 'Bark Brewing Company', '3021 Spring Garden St', 'Greensboro', 'North Carolina', '27403', '36.0620103554184', '-79.8436043406271', '3.5', 4)\n"
     ]
    }
   ],
   "source": [
    "# check ratings table\n",
    "print(engine.execute(\"SELECT * FROM ratings\").fetchall()[0])"
   ]
  },
  {
   "cell_type": "code",
   "execution_count": null,
   "metadata": {},
   "outputs": [],
   "source": []
  }
 ],
 "metadata": {
  "kernelspec": {
   "display_name": "Python 3",
   "language": "python",
   "name": "python3"
  },
  "language_info": {
   "codemirror_mode": {
    "name": "ipython",
    "version": 3
   },
   "file_extension": ".py",
   "mimetype": "text/x-python",
   "name": "python",
   "nbconvert_exporter": "python",
   "pygments_lexer": "ipython3",
   "version": "3.7.4"
  }
 },
 "nbformat": 4,
 "nbformat_minor": 2
}
